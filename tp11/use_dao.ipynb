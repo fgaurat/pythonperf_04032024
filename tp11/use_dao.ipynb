{
 "cells": [
  {
   "cell_type": "markdown",
   "id": "e542c6a5-54eb-4887-bfa6-5216d5fd6c32",
   "metadata": {},
   "source": [
    "# Ceci est un titre"
   ]
  },
  {
   "cell_type": "code",
   "execution_count": null,
   "id": "f3ad52de-6b6c-443d-9563-a22b9307e773",
   "metadata": {},
   "outputs": [],
   "source": [
    "# ! pip install toto"
   ]
  },
  {
   "cell_type": "code",
   "execution_count": null,
   "id": "8cec5c0e-2a71-4e9f-9c47-74a1cadd92f0",
   "metadata": {},
   "outputs": [],
   "source": [
    "from CustomerDAO import CustomerDAO"
   ]
  },
  {
   "cell_type": "code",
   "execution_count": null,
   "id": "196a766f-84f4-475e-8161-d292af45cb10",
   "metadata": {},
   "outputs": [],
   "source": [
    "dao = CustomerDAO('customer_db.db')"
   ]
  },
  {
   "cell_type": "code",
   "execution_count": null,
   "id": "dab1be7f-a70c-4ac7-9138-94448b1200d6",
   "metadata": {},
   "outputs": [],
   "source": [
    "dao.findAll()"
   ]
  },
  {
   "cell_type": "code",
   "execution_count": null,
   "id": "800f8d68-cab9-4028-ad27-ed23ead927e4",
   "metadata": {},
   "outputs": [],
   "source": [
    "# [c for c in dao.findAll()]"
   ]
  },
  {
   "cell_type": "code",
   "execution_count": 12,
   "id": "c123f834-5bc5-43c5-8d31-8105ceec0648",
   "metadata": {},
   "outputs": [
    {
     "name": "stdout",
     "output_type": "stream",
     "text": [
      "Requirement already satisfied: numpy in c:\\users\\orsys\\desktop\\formation\\tp11\\.venv\\lib\\site-packages (1.26.4)\n",
      "Note: you may need to restart the kernel to use updated packages.\n"
     ]
    },
    {
     "name": "stderr",
     "output_type": "stream",
     "text": [
      "\n",
      "[notice] A new release of pip is available: 23.1.2 -> 24.0\n",
      "[notice] To update, run: python.exe -m pip install --upgrade pip\n"
     ]
    }
   ],
   "source": [
    "! pip install numpy"
   ]
  },
  {
   "cell_type": "code",
   "execution_count": null,
   "id": "c9fd946b-9970-4e99-8260-707f94d8caa5",
   "metadata": {},
   "outputs": [],
   "source": []
  }
 ],
 "metadata": {
  "kernelspec": {
   "display_name": "Python 3 (ipykernel)",
   "language": "python",
   "name": "python3"
  },
  "language_info": {
   "codemirror_mode": {
    "name": "ipython",
    "version": 3
   },
   "file_extension": ".py",
   "mimetype": "text/x-python",
   "name": "python",
   "nbconvert_exporter": "python",
   "pygments_lexer": "ipython3",
   "version": "3.11.4"
  }
 },
 "nbformat": 4,
 "nbformat_minor": 5
}
